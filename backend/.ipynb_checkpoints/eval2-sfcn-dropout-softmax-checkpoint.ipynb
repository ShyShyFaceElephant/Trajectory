{
 "cells": [
  {
   "cell_type": "code",
   "execution_count": 1,
   "id": "799cd855-2ca0-4ccc-832b-9ec500bab0ec",
   "metadata": {},
   "outputs": [
    {
     "data": {
      "text/plain": [
       "0"
      ]
     },
     "execution_count": 1,
     "metadata": {},
     "output_type": "execute_result"
    }
   ],
   "source": [
    "import torch\n",
    "import torch.nn as nn\n",
    "import torch.optim as optim\n",
    "import torch\n",
    "from torch.utils.data import DataLoader, TensorDataset, ConcatDataset\n",
    "import numpy as np\n",
    "import os\n",
    "from tqdm import tqdm\n",
    "import nibabel as nib\n",
    "import torch.nn.functional as F\n",
    "# 強制進行垃圾回收以釋放內存\n",
    "import gc\n",
    "gc.collect()"
   ]
  },
  {
   "cell_type": "markdown",
   "id": "0e508dc3-3273-405a-b4a0-bc636ee2970c",
   "metadata": {},
   "source": [
    "# 定義模型"
   ]
  },
  {
   "cell_type": "code",
   "execution_count": 2,
   "id": "9aa18c7e-1a9b-41c5-a04f-7e4e55df0895",
   "metadata": {},
   "outputs": [],
   "source": [
    "# 定義 sfcn 的基本塊\n",
    "class BasicBlock(nn.Module): # Conv -> BN -> MaxPooling -> ReLU\n",
    "    expansion = 1  # 通道擴展倍數\n",
    "\n",
    "    def __init__(self, in_planes, out_planes, stride=1):\n",
    "        super(BasicBlock, self).__init__()\n",
    "        self.conv1 = nn.Conv3d(in_planes, out_planes, kernel_size=3, stride=stride,  padding=1)\n",
    "        self.bn1 = nn.BatchNorm3d(out_planes)\n",
    "        self.maxpool1 = nn.MaxPool3d(kernel_size=2, stride=2)\n",
    "\n",
    "    def forward(self, x):\n",
    "        out = self.conv1(x)\n",
    "        out = self.bn1(out)\n",
    "        out = self.maxpool1(out)\n",
    "        out = torch.relu(out)\n",
    "        return out"
   ]
  },
  {
   "cell_type": "code",
   "execution_count": 3,
   "id": "8752bba1-264c-41ea-ae64-0e96b03f8f1e",
   "metadata": {},
   "outputs": [],
   "source": [
    "# Define the full network architecture\n",
    "class SFCN(nn.Module):\n",
    "    def __init__(self, num_classes=1):\n",
    "        super(SFCN, self).__init__()\n",
    "        \n",
    "        # Initial channel size\n",
    "        self.in_planes = 1\n",
    "        # Block 1 (Input channel: 1 -> Output channel: 32)\n",
    "        self.layer1 = self._make_layer(BasicBlock, 32, num_blocks=1, stride=1)\n",
    "\n",
    "        # Block 2 (Input channel: 32 -> Output channel: 64)\n",
    "        self.layer2 = self._make_layer(BasicBlock, 64, num_blocks=1, stride=1) \n",
    "\n",
    "        # Block 3 (Input channel: 64 -> Output channel: 128)\n",
    "        self.layer3 = self._make_layer(BasicBlock, 128, num_blocks=1, stride=1)\n",
    "\n",
    "        # Block 4 (Input channel: 128 -> Output channel: 256)\n",
    "        self.layer4 = self._make_layer(BasicBlock, 256, num_blocks=1, stride=1)\n",
    "\n",
    "        # Block 5 (Input channel: 256 -> Output channel: 256)\n",
    "        self.layer5 = self._make_layer(BasicBlock, 256, num_blocks=1, stride=1)\n",
    "\n",
    "        # Stage 2 (Conv1*1 -> BN -> Relu)\n",
    "        self.conv1 = nn.Conv3d(256, 64, kernel_size=1, stride=1, padding=0)\n",
    "        self.bn1 = nn.BatchNorm3d(64)\n",
    "        \n",
    "        # Stage 3 (AvgPool -> Dropout -> Conv1*1)\n",
    "        self.dropout = nn.Dropout(p=0.2)\n",
    "        self.conv2 = nn.Conv3d(64, 50, kernel_size=1, stride=1, padding=0)\n",
    "        self.softmax = nn.Softmax(dim=1)\n",
    "        \n",
    "\n",
    "    def _make_layer(self, block, out_planes, num_blocks, stride):\n",
    "        layers = []\n",
    "        layers.append(block(self.in_planes, out_planes, stride))\n",
    "        self.in_planes = out_planes * block.expansion\n",
    "        for _ in range(1, num_blocks):\n",
    "            layers.append(block(self.in_planes, out_planes))\n",
    "        return nn.Sequential(*layers)\n",
    "\n",
    "    def forward(self, x):\n",
    "        # Stage 1\n",
    "        x = self.layer1(x)\n",
    "        x = self.layer2(x)\n",
    "        x = self.layer3(x)\n",
    "        x = self.layer4(x)\n",
    "        x = self.layer5(x)\n",
    "        # Stage 2\n",
    "        x = self.conv1(x)\n",
    "        x = self.bn1(x)\n",
    "        x = torch.relu(x)\n",
    "        # Stage 3\n",
    "        x = F.adaptive_avg_pool3d(x, output_size=1)\n",
    "        x = self.dropout(x)\n",
    "        x = self.conv2(x)\n",
    "        x = x.view(x.shape[0], 50)\n",
    "        x = self.softmax(x)\n",
    "        # 權重平均\n",
    "        weights = torch.arange(1, 51, dtype=x.dtype, device=x.device).view(1, -1)\n",
    "        x = torch.sum(x * weights, dim=1, keepdim=True)\n",
    "        x = x * 2\n",
    "        return x"
   ]
  },
  {
   "cell_type": "code",
   "execution_count": 4,
   "id": "05bc08ee-b4dc-48f9-8bf9-33e0eff98ac2",
   "metadata": {},
   "outputs": [],
   "source": [
    "# Device configuration\n",
    "device = torch.device('cuda' if torch.cuda.is_available() else 'cpu')\n",
    "criterion = nn.L1Loss()  # MAE"
   ]
  },
  {
   "cell_type": "code",
   "execution_count": 6,
   "id": "1755d27a-acb1-47ed-9f05-0ca34a6a123c",
   "metadata": {},
   "outputs": [
    {
     "name": "stderr",
     "output_type": "stream",
     "text": [
      "C:\\Users\\user\\AppData\\Local\\Temp\\ipykernel_16292\\968040627.py:10: FutureWarning: You are using `torch.load` with `weights_only=False` (the current default value), which uses the default pickle module implicitly. It is possible to construct malicious pickle data which will execute arbitrary code during unpickling (See https://github.com/pytorch/pytorch/blob/main/SECURITY.md#untrusted-models for more details). In a future release, the default value for `weights_only` will be flipped to `True`. This limits the functions that could be executed during unpickling. Arbitrary objects will no longer be allowed to be loaded via this mode unless they are explicitly allowlisted by the user via `torch.serialization.add_safe_globals`. We recommend you start setting `weights_only=True` for any use case where you don't have full control of the loaded file. Please open an issue on GitHub for any issues related to this experimental feature.\n",
      "  cnns[i].load_state_dict(torch.load(path))\n"
     ]
    }
   ],
   "source": [
    "cnns=[None, None, None, None, None]\n",
    "pt_ls = ['sfcn-dropout-softmax_fold-0_247_4.8776.pt',\n",
    "         'sfcn-dropout-softmax_fold-1_223_4.9174.pt',\n",
    "         'sfcn-dropout-softmax_fold-2_295_4.9669.pt',\n",
    "         'sfcn-dropout-softmax_fold-3_170_4.7292.pt',\n",
    "         'sfcn-dropout-softmax_fold-4_269_4.5282.pt']\n",
    "for i in range(5):\n",
    "    cnns[i] = SFCN(num_classes=1)\n",
    "    path = os.path.join(r'models',pt_ls[i])\n",
    "    cnns[i].load_state_dict(torch.load(path))\n",
    "    cnns[i].eval()\n",
    "    cnns[i].to(device)"
   ]
  },
  {
   "cell_type": "markdown",
   "id": "f357860b-9d33-4a2e-8eb9-288a5087d2bb",
   "metadata": {},
   "source": [
    "# 載入資料"
   ]
  },
  {
   "cell_type": "code",
   "execution_count": 7,
   "id": "fc302def-7c32-481a-af95-89972b5e17a0",
   "metadata": {},
   "outputs": [],
   "source": [
    "def make_TensorDataset(path,DB=None):\n",
    "    files = []\n",
    "    # 如果有指定資料庫 另外處理\n",
    "    if DB!=None:\n",
    "        all_files = os.listdir(path)\n",
    "        for file in all_files:\n",
    "            set, subset, pp, step, db, id, age, sex, Filename_Extension = file.split('_')\n",
    "            if db == DB:\n",
    "                files.append(file)\n",
    "    else:\n",
    "        files = os.listdir(path)\n",
    "    n = len(files)\n",
    "    images = np.zeros((n,1,128,192,128),dtype=np.uint8)\n",
    "    labels = np.zeros((n,1))\n",
    "    info = []\n",
    "    # 讀入所有檔案\n",
    "    for i,file in tqdm(enumerate(files)):\n",
    "        path_to_file = os.path.join(path,file)\n",
    "        # 製作 images\n",
    "        data = nib.load(path_to_file)\n",
    "        images[i] = data.get_fdata()\n",
    "        # 製作 labels\n",
    "        set, subset, pp, step, db, id, age, sex, Filename_Extension = file.split('_') # fold0_augTrain_pp007_result_ABIDE_I328291_15_M_.nii.gz\n",
    "        labels[i] = float(age)\n",
    "        # 製作 info\n",
    "        Set = set if set[0]=='f' else 'test' # fold0, fold1, fold2, fold3, fold4, test\n",
    "        info.append((file, db, Set))\n",
    "    # 製作 Dataset\n",
    "    images_tensor = torch.from_numpy(images).to(torch.uint8)  # 儲存為 uint8\n",
    "    labels_tensor =  torch.from_numpy(labels).to(torch.float32)\n",
    "    dataset = TensorDataset(images_tensor, labels_tensor)\n",
    "    return dataset, info, n"
   ]
  },
  {
   "cell_type": "code",
   "execution_count": 8,
   "id": "811f1f34-b1bd-4baf-bb3e-08814f80f5b0",
   "metadata": {},
   "outputs": [
    {
     "name": "stderr",
     "output_type": "stream",
     "text": [
      "375it [00:14, 25.11it/s]\n"
     ]
    },
    {
     "name": "stdout",
     "output_type": "stream",
     "text": [
      "train_dataset 0 樣本數量：375\n"
     ]
    },
    {
     "name": "stderr",
     "output_type": "stream",
     "text": [
      "374it [00:14, 26.13it/s]\n"
     ]
    },
    {
     "name": "stdout",
     "output_type": "stream",
     "text": [
      "train_dataset 1 樣本數量：374\n"
     ]
    },
    {
     "name": "stderr",
     "output_type": "stream",
     "text": [
      "374it [00:14, 25.11it/s]\n"
     ]
    },
    {
     "name": "stdout",
     "output_type": "stream",
     "text": [
      "train_dataset 2 樣本數量：374\n"
     ]
    },
    {
     "name": "stderr",
     "output_type": "stream",
     "text": [
      "374it [00:14, 26.50it/s]\n"
     ]
    },
    {
     "name": "stdout",
     "output_type": "stream",
     "text": [
      "train_dataset 3 樣本數量：374\n"
     ]
    },
    {
     "name": "stderr",
     "output_type": "stream",
     "text": [
      "374it [00:13, 27.00it/s]"
     ]
    },
    {
     "name": "stdout",
     "output_type": "stream",
     "text": [
      "train_dataset 4 樣本數量：374\n"
     ]
    },
    {
     "name": "stderr",
     "output_type": "stream",
     "text": [
      "\n"
     ]
    }
   ],
   "source": [
    "# 製作 train Dataset\n",
    "train_dataset = [None,None,None,None,None]\n",
    "train_info = [None,None,None,None,None] # info [(Filename,Database,Set), (Filename,Database,Set),...]\n",
    "train_len = [0,0,0,0,0]\n",
    "for i in range(5):\n",
    "    dir = r'C:\\Users\\user\\Desktop\\brainModel\\lab004-black\\sets\\train'\n",
    "    path = os.path.join(dir, f'{i}') #fold i\n",
    "    train_dataset[i], train_info[i], train_len[i] = make_TensorDataset(path)\n",
    "    # 顯示大小\n",
    "    print(f'train_dataset {i} 樣本數量：{train_len[i]}')"
   ]
  },
  {
   "cell_type": "code",
   "execution_count": 9,
   "id": "5d4902e3-53a4-4ee3-a436-1291e5dcdf5e",
   "metadata": {},
   "outputs": [
    {
     "name": "stderr",
     "output_type": "stream",
     "text": [
      "468it [00:18, 25.58it/s]"
     ]
    },
    {
     "name": "stdout",
     "output_type": "stream",
     "text": [
      "test dataset 樣本數量：468\n"
     ]
    },
    {
     "name": "stderr",
     "output_type": "stream",
     "text": [
      "\n"
     ]
    }
   ],
   "source": [
    "# 製作 test Dataset\n",
    "test_path = r'C:\\Users\\user\\Desktop\\brainModel\\lab004-black\\sets\\test'\n",
    "test_dataset, test_info, test_len = make_TensorDataset(test_path)\n",
    "print(f'test dataset 樣本數量：{test_len}')"
   ]
  },
  {
   "cell_type": "markdown",
   "id": "f34d0fd8-1fa3-49c2-83f2-065dbd553ae9",
   "metadata": {},
   "source": [
    "# 總表製作(overall_df)"
   ]
  },
  {
   "cell_type": "code",
   "execution_count": 10,
   "id": "365bbe85-fed1-46cb-8a97-e2e11c64ac3c",
   "metadata": {},
   "outputs": [],
   "source": [
    "NUMBER_OF_SUBJECT = 2339\n",
    "Filename = [None] * NUMBER_OF_SUBJECT\n",
    "Database = [None] * NUMBER_OF_SUBJECT\n",
    "Set = [None] * NUMBER_OF_SUBJECT\n",
    "Actual_Age = [None] * NUMBER_OF_SUBJECT\n",
    "Models = [[None] * NUMBER_OF_SUBJECT for _ in range(5)]  # 5 層，每層都是獨立的列表\n",
    "Ensemble = [None] * NUMBER_OF_SUBJECT\n"
   ]
  },
  {
   "cell_type": "code",
   "execution_count": 11,
   "id": "ed61b0ec-75d5-4b26-bc29-c5f77b5653a4",
   "metadata": {},
   "outputs": [
    {
     "name": "stderr",
     "output_type": "stream",
     "text": [
      "375it [00:26, 14.23it/s]\n",
      "374it [00:26, 14.23it/s]\n",
      "374it [00:25, 14.51it/s]\n",
      "374it [00:25, 14.62it/s]\n",
      "374it [00:25, 14.46it/s]\n"
     ]
    }
   ],
   "source": [
    "# train 跑一遍\n",
    "index = 0 # index 總表的索引 (0 ~ 2338)\n",
    "for fold in range(5):\n",
    "    for i, element in tqdm(enumerate(train_dataset[fold])): # i train_dataset[fold]的索引 (0 ~ train_len[fold])\n",
    "        inputs, labels = element\n",
    "        # 在輸入模型前轉換為 float32，並標準化到 [0,1]\n",
    "        inputs = inputs.to(torch.float32) / 255.0\n",
    "        inputs = inputs.unsqueeze(0)\n",
    "        inputs = inputs.to(device)\n",
    "        labels = labels.to(device)\n",
    "        # 填表\n",
    "        filename, database, set = train_info[fold][i]\n",
    "        Filename[index] = filename\n",
    "        Database[index] = database\n",
    "        Set[index] = set\n",
    "        Actual_Age[index] = labels.item()\n",
    "        ensemble_output = 0.0\n",
    "        for model_i in range(5):\n",
    "            outputs = cnns[model_i](inputs)\n",
    "            Models[model_i][index] = outputs.item()\n",
    "            ensemble_output += outputs.item()*0.2\n",
    "        Ensemble[index] = ensemble_output\n",
    "        # index 更新\n",
    "        index += 1"
   ]
  },
  {
   "cell_type": "code",
   "execution_count": 12,
   "id": "57afc3bc-4c4c-4a39-bb10-2737496f3765",
   "metadata": {},
   "outputs": [
    {
     "name": "stderr",
     "output_type": "stream",
     "text": [
      "468it [00:32, 14.54it/s]\n"
     ]
    }
   ],
   "source": [
    "# test 跑一遍\n",
    "for i, element in tqdm(enumerate(test_dataset)): # i test_dataset的索引 (0 ~ test_len)\n",
    "    inputs, labels = element\n",
    "    # 在輸入模型前轉換為 float32，並標準化到 [0,1]\n",
    "    inputs = inputs.to(torch.float32) / 255.0\n",
    "    inputs = inputs.unsqueeze(0)\n",
    "    inputs = inputs.to(device)\n",
    "    labels = labels.to(device)\n",
    "    # 填表\n",
    "    filename, database, set = test_info[i]\n",
    "    Filename[index] = filename\n",
    "    Database[index] = database\n",
    "    Set[index] = set\n",
    "    Actual_Age[index] = labels.item()\n",
    "    ensemble_output = 0.0\n",
    "    for model_i in range(5):\n",
    "        outputs = cnns[model_i](inputs)\n",
    "        Models[model_i][index] = outputs.item()\n",
    "        ensemble_output += outputs.item()*0.2\n",
    "    Ensemble[index] = ensemble_output\n",
    "    # index 更新\n",
    "    index += 1"
   ]
  },
  {
   "cell_type": "code",
   "execution_count": 13,
   "id": "a4b64cc7-e996-4de2-9cc9-17745682d63d",
   "metadata": {},
   "outputs": [],
   "source": [
    "import pandas as pd"
   ]
  },
  {
   "cell_type": "code",
   "execution_count": 14,
   "id": "9ca7181e-cd11-470c-a748-0a6b2e2c9956",
   "metadata": {},
   "outputs": [
    {
     "data": {
      "text/html": [
       "<div>\n",
       "<style scoped>\n",
       "    .dataframe tbody tr th:only-of-type {\n",
       "        vertical-align: middle;\n",
       "    }\n",
       "\n",
       "    .dataframe tbody tr th {\n",
       "        vertical-align: top;\n",
       "    }\n",
       "\n",
       "    .dataframe thead th {\n",
       "        text-align: right;\n",
       "    }\n",
       "</style>\n",
       "<table border=\"1\" class=\"dataframe\">\n",
       "  <thead>\n",
       "    <tr style=\"text-align: right;\">\n",
       "      <th></th>\n",
       "      <th>Filename</th>\n",
       "      <th>Database</th>\n",
       "      <th>Set</th>\n",
       "      <th>Actual_Age</th>\n",
       "      <th>Model-0</th>\n",
       "      <th>Model-1</th>\n",
       "      <th>Model-2</th>\n",
       "      <th>Model-3</th>\n",
       "      <th>Model-4</th>\n",
       "      <th>Ensemble</th>\n",
       "    </tr>\n",
       "  </thead>\n",
       "  <tbody>\n",
       "    <tr>\n",
       "      <th>0</th>\n",
       "      <td>fold0_augTrain_pp007_result_ABIDE_I328291_15_M...</td>\n",
       "      <td>ABIDE</td>\n",
       "      <td>fold0</td>\n",
       "      <td>15.000000</td>\n",
       "      <td>11.055843</td>\n",
       "      <td>13.945442</td>\n",
       "      <td>14.707122</td>\n",
       "      <td>13.747810</td>\n",
       "      <td>13.140142</td>\n",
       "      <td>13.319272</td>\n",
       "    </tr>\n",
       "    <tr>\n",
       "      <th>1</th>\n",
       "      <td>fold0_augTrain_pp007_result_ABIDE_I328292_17_M...</td>\n",
       "      <td>ABIDE</td>\n",
       "      <td>fold0</td>\n",
       "      <td>17.000000</td>\n",
       "      <td>9.860627</td>\n",
       "      <td>15.754192</td>\n",
       "      <td>16.890696</td>\n",
       "      <td>15.815943</td>\n",
       "      <td>14.134605</td>\n",
       "      <td>14.491213</td>\n",
       "    </tr>\n",
       "    <tr>\n",
       "      <th>2</th>\n",
       "      <td>fold0_augTrain_pp007_result_ABIDE_I328314_11_M...</td>\n",
       "      <td>ABIDE</td>\n",
       "      <td>fold0</td>\n",
       "      <td>11.000000</td>\n",
       "      <td>11.289095</td>\n",
       "      <td>11.326916</td>\n",
       "      <td>12.332553</td>\n",
       "      <td>9.684323</td>\n",
       "      <td>11.681792</td>\n",
       "      <td>11.262936</td>\n",
       "    </tr>\n",
       "    <tr>\n",
       "      <th>3</th>\n",
       "      <td>fold0_augTrain_pp007_result_ABIDE_I328327_9_M_...</td>\n",
       "      <td>ABIDE</td>\n",
       "      <td>fold0</td>\n",
       "      <td>9.000000</td>\n",
       "      <td>9.928946</td>\n",
       "      <td>9.757463</td>\n",
       "      <td>9.118044</td>\n",
       "      <td>8.562846</td>\n",
       "      <td>8.514481</td>\n",
       "      <td>9.176356</td>\n",
       "    </tr>\n",
       "    <tr>\n",
       "      <th>4</th>\n",
       "      <td>fold0_augTrain_pp007_result_ABIDE_I328363_12_F...</td>\n",
       "      <td>ABIDE</td>\n",
       "      <td>fold0</td>\n",
       "      <td>12.000000</td>\n",
       "      <td>14.527342</td>\n",
       "      <td>11.551311</td>\n",
       "      <td>12.537727</td>\n",
       "      <td>12.246925</td>\n",
       "      <td>11.771994</td>\n",
       "      <td>12.527060</td>\n",
       "    </tr>\n",
       "    <tr>\n",
       "      <th>...</th>\n",
       "      <td>...</td>\n",
       "      <td>...</td>\n",
       "      <td>...</td>\n",
       "      <td>...</td>\n",
       "      <td>...</td>\n",
       "      <td>...</td>\n",
       "      <td>...</td>\n",
       "      <td>...</td>\n",
       "      <td>...</td>\n",
       "      <td>...</td>\n",
       "    </tr>\n",
       "    <tr>\n",
       "      <th>2334</th>\n",
       "      <td>set_Test_pp007_result_IXI_622_59.7_M_.nii.gz</td>\n",
       "      <td>IXI</td>\n",
       "      <td>test</td>\n",
       "      <td>59.700001</td>\n",
       "      <td>62.842819</td>\n",
       "      <td>60.873909</td>\n",
       "      <td>58.882404</td>\n",
       "      <td>61.270035</td>\n",
       "      <td>59.570858</td>\n",
       "      <td>60.688005</td>\n",
       "    </tr>\n",
       "    <tr>\n",
       "      <th>2335</th>\n",
       "      <td>set_Test_pp007_result_IXI_634_34.1_M_.nii.gz</td>\n",
       "      <td>IXI</td>\n",
       "      <td>test</td>\n",
       "      <td>34.099998</td>\n",
       "      <td>44.440147</td>\n",
       "      <td>42.765182</td>\n",
       "      <td>45.738220</td>\n",
       "      <td>48.903927</td>\n",
       "      <td>42.509346</td>\n",
       "      <td>44.871365</td>\n",
       "    </tr>\n",
       "    <tr>\n",
       "      <th>2336</th>\n",
       "      <td>set_Test_pp007_result_IXI_641_68.1_M_.nii.gz</td>\n",
       "      <td>IXI</td>\n",
       "      <td>test</td>\n",
       "      <td>68.099998</td>\n",
       "      <td>70.811760</td>\n",
       "      <td>67.910378</td>\n",
       "      <td>69.753914</td>\n",
       "      <td>71.822525</td>\n",
       "      <td>70.564026</td>\n",
       "      <td>70.172520</td>\n",
       "    </tr>\n",
       "    <tr>\n",
       "      <th>2337</th>\n",
       "      <td>set_Test_pp007_result_IXI_642_57.1_M_.nii.gz</td>\n",
       "      <td>IXI</td>\n",
       "      <td>test</td>\n",
       "      <td>57.099998</td>\n",
       "      <td>59.323708</td>\n",
       "      <td>61.789112</td>\n",
       "      <td>54.245186</td>\n",
       "      <td>54.069107</td>\n",
       "      <td>59.866676</td>\n",
       "      <td>57.858758</td>\n",
       "    </tr>\n",
       "    <tr>\n",
       "      <th>2338</th>\n",
       "      <td>set_Test_pp007_result_IXI_644_56.9_M_.nii.gz</td>\n",
       "      <td>IXI</td>\n",
       "      <td>test</td>\n",
       "      <td>56.900002</td>\n",
       "      <td>51.070026</td>\n",
       "      <td>48.559895</td>\n",
       "      <td>50.331142</td>\n",
       "      <td>50.777313</td>\n",
       "      <td>50.788189</td>\n",
       "      <td>50.305313</td>\n",
       "    </tr>\n",
       "  </tbody>\n",
       "</table>\n",
       "<p>2339 rows × 10 columns</p>\n",
       "</div>"
      ],
      "text/plain": [
       "                                               Filename Database    Set  \\\n",
       "0     fold0_augTrain_pp007_result_ABIDE_I328291_15_M...    ABIDE  fold0   \n",
       "1     fold0_augTrain_pp007_result_ABIDE_I328292_17_M...    ABIDE  fold0   \n",
       "2     fold0_augTrain_pp007_result_ABIDE_I328314_11_M...    ABIDE  fold0   \n",
       "3     fold0_augTrain_pp007_result_ABIDE_I328327_9_M_...    ABIDE  fold0   \n",
       "4     fold0_augTrain_pp007_result_ABIDE_I328363_12_F...    ABIDE  fold0   \n",
       "...                                                 ...      ...    ...   \n",
       "2334       set_Test_pp007_result_IXI_622_59.7_M_.nii.gz      IXI   test   \n",
       "2335       set_Test_pp007_result_IXI_634_34.1_M_.nii.gz      IXI   test   \n",
       "2336       set_Test_pp007_result_IXI_641_68.1_M_.nii.gz      IXI   test   \n",
       "2337       set_Test_pp007_result_IXI_642_57.1_M_.nii.gz      IXI   test   \n",
       "2338       set_Test_pp007_result_IXI_644_56.9_M_.nii.gz      IXI   test   \n",
       "\n",
       "      Actual_Age    Model-0    Model-1    Model-2    Model-3    Model-4  \\\n",
       "0      15.000000  11.055843  13.945442  14.707122  13.747810  13.140142   \n",
       "1      17.000000   9.860627  15.754192  16.890696  15.815943  14.134605   \n",
       "2      11.000000  11.289095  11.326916  12.332553   9.684323  11.681792   \n",
       "3       9.000000   9.928946   9.757463   9.118044   8.562846   8.514481   \n",
       "4      12.000000  14.527342  11.551311  12.537727  12.246925  11.771994   \n",
       "...          ...        ...        ...        ...        ...        ...   \n",
       "2334   59.700001  62.842819  60.873909  58.882404  61.270035  59.570858   \n",
       "2335   34.099998  44.440147  42.765182  45.738220  48.903927  42.509346   \n",
       "2336   68.099998  70.811760  67.910378  69.753914  71.822525  70.564026   \n",
       "2337   57.099998  59.323708  61.789112  54.245186  54.069107  59.866676   \n",
       "2338   56.900002  51.070026  48.559895  50.331142  50.777313  50.788189   \n",
       "\n",
       "       Ensemble  \n",
       "0     13.319272  \n",
       "1     14.491213  \n",
       "2     11.262936  \n",
       "3      9.176356  \n",
       "4     12.527060  \n",
       "...         ...  \n",
       "2334  60.688005  \n",
       "2335  44.871365  \n",
       "2336  70.172520  \n",
       "2337  57.858758  \n",
       "2338  50.305313  \n",
       "\n",
       "[2339 rows x 10 columns]"
      ]
     },
     "execution_count": 14,
     "metadata": {},
     "output_type": "execute_result"
    }
   ],
   "source": [
    "data = {\n",
    "    'Filename' : Filename,\n",
    "    'Database' : Database,\n",
    "    'Set' : Set,\n",
    "    'Actual_Age' : Actual_Age,\n",
    "    'Model-0' : Models[0],\n",
    "    'Model-1' : Models[1],\n",
    "    'Model-2' : Models[2],\n",
    "    'Model-3' : Models[3],\n",
    "    'Model-4' : Models[4],\n",
    "    'Ensemble' : Ensemble\n",
    "}\n",
    "overall_df = pd.DataFrame(data)\n",
    "# 正名\n",
    "overall_df['Database'] = overall_df['Database'].replace('camcan', 'CamCAN')\n",
    "overall_df['Database'] = overall_df['Database'].replace('ADNI-sc-CN', 'ADNI')\n",
    "# 印出檢查\n",
    "overall_df.to_csv('overall_df.csv')\n",
    "overall_df"
   ]
  },
  {
   "cell_type": "markdown",
   "id": "896e8a76-118f-4bd4-97cb-63ae95e73972",
   "metadata": {},
   "source": [
    "# 評估表格製作"
   ]
  },
  {
   "cell_type": "code",
   "execution_count": 14,
   "id": "4d51fd2a-172e-47f1-9244-d8f26ecc7a36",
   "metadata": {},
   "outputs": [],
   "source": [
    "import pandas as pd\n",
    "import numpy as np\n",
    "overall_df = pd.read_csv('overall_df.csv')"
   ]
  },
  {
   "cell_type": "code",
   "execution_count": 15,
   "id": "8b010efd-73b7-456d-a2e2-cd260bfc91f0",
   "metadata": {},
   "outputs": [],
   "source": [
    "def count_mae(df, mask_predicted_age):\n",
    "    return (df[mask_predicted_age] - df[\"Actual_Age\"]).abs().mean()"
   ]
  },
  {
   "cell_type": "code",
   "execution_count": 16,
   "id": "96a24b2d-c939-4dd9-a9c6-e8a99803fbc2",
   "metadata": {},
   "outputs": [
    {
     "data": {
      "text/html": [
       "<div>\n",
       "<style scoped>\n",
       "    .dataframe tbody tr th:only-of-type {\n",
       "        vertical-align: middle;\n",
       "    }\n",
       "\n",
       "    .dataframe tbody tr th {\n",
       "        vertical-align: top;\n",
       "    }\n",
       "\n",
       "    .dataframe thead th {\n",
       "        text-align: right;\n",
       "    }\n",
       "</style>\n",
       "<table border=\"1\" class=\"dataframe\">\n",
       "  <thead>\n",
       "    <tr style=\"text-align: right;\">\n",
       "      <th></th>\n",
       "      <th>Train</th>\n",
       "      <th>Val</th>\n",
       "      <th>Test</th>\n",
       "    </tr>\n",
       "  </thead>\n",
       "  <tbody>\n",
       "    <tr>\n",
       "      <th>Model-0</th>\n",
       "      <td>0.949715</td>\n",
       "      <td>4.877599</td>\n",
       "      <td>4.700820</td>\n",
       "    </tr>\n",
       "    <tr>\n",
       "      <th>Model-1</th>\n",
       "      <td>1.203797</td>\n",
       "      <td>4.917290</td>\n",
       "      <td>4.627566</td>\n",
       "    </tr>\n",
       "    <tr>\n",
       "      <th>Model-2</th>\n",
       "      <td>1.259983</td>\n",
       "      <td>4.966977</td>\n",
       "      <td>4.906039</td>\n",
       "    </tr>\n",
       "    <tr>\n",
       "      <th>Model-3</th>\n",
       "      <td>1.433389</td>\n",
       "      <td>4.729288</td>\n",
       "      <td>4.598510</td>\n",
       "    </tr>\n",
       "    <tr>\n",
       "      <th>Model-4</th>\n",
       "      <td>1.261567</td>\n",
       "      <td>4.528108</td>\n",
       "      <td>4.613611</td>\n",
       "    </tr>\n",
       "    <tr>\n",
       "      <th>Average</th>\n",
       "      <td>1.221690</td>\n",
       "      <td>4.803853</td>\n",
       "      <td>4.689309</td>\n",
       "    </tr>\n",
       "    <tr>\n",
       "      <th>Ensemble</th>\n",
       "      <td>1.055017</td>\n",
       "      <td>NaN</td>\n",
       "      <td>4.330709</td>\n",
       "    </tr>\n",
       "  </tbody>\n",
       "</table>\n",
       "</div>"
      ],
      "text/plain": [
       "             Train       Val      Test\n",
       "Model-0   0.949715  4.877599  4.700820\n",
       "Model-1   1.203797  4.917290  4.627566\n",
       "Model-2   1.259983  4.966977  4.906039\n",
       "Model-3   1.433389  4.729288  4.598510\n",
       "Model-4   1.261567  4.528108  4.613611\n",
       "Average   1.221690  4.803853  4.689309\n",
       "Ensemble  1.055017       NaN  4.330709"
      ]
     },
     "execution_count": 16,
     "metadata": {},
     "output_type": "execute_result"
    }
   ],
   "source": [
    "summary_df = pd.DataFrame(columns=['Train','Val','Test'])\n",
    "# 每摺模型數據\n",
    "for i in range(5):\n",
    "    # 訓練集\n",
    "    mask_train = ((overall_df['Set'] == f'fold{(i+1)%5}') |\n",
    "                  (overall_df['Set'] == f'fold{(i+2)%5}') |\n",
    "                  (overall_df['Set'] == f'fold{(i+3)%5}') |\n",
    "                  (overall_df['Set'] == f'fold{(i+4)%5}'))\n",
    "    train_df = overall_df[mask_train]\n",
    "    train_mae = count_mae(train_df, f'Model-{i}')\n",
    "    # 驗證集\n",
    "    mask_val = overall_df['Set'] == f'fold{i}'\n",
    "    val_df = overall_df[mask_val]\n",
    "    val_mae = count_mae(val_df, f'Model-{i}')\n",
    "    # 測試集\n",
    "    mask_test = overall_df['Set'] == 'test'\n",
    "    test_df = overall_df[mask_test]\n",
    "    test_mae = count_mae(test_df, f'Model-{i}')\n",
    "    # 填表\n",
    "    summary_df.loc[f'Model-{i}'] = [train_mae, val_mae, test_mae]\n",
    "# 單一模型平均\n",
    "summary_df.loc['Average'] = summary_df.mean()\n",
    "# 組合模型數據\n",
    "mask_ensemble_train = overall_df['Set'] != 'test'\n",
    "ensemble_train_df = overall_df[mask_ensemble_train]\n",
    "ensemble_train_mae = count_mae(ensemble_train_df,'Ensemble')\n",
    "\n",
    "mask_ensemble_test = overall_df['Set'] == 'test'\n",
    "ensemble_test_df = overall_df[mask_ensemble_test]\n",
    "ensemble_test_mae = count_mae(ensemble_test_df,'Ensemble')\n",
    "\n",
    "summary_df.loc['Ensemble'] = [ensemble_train_mae, None, ensemble_test_mae]\n",
    "summary_df"
   ]
  },
  {
   "cell_type": "code",
   "execution_count": 17,
   "id": "f35b990b-cb0e-466d-9a51-673cd46aaca4",
   "metadata": {},
   "outputs": [
    {
     "data": {
      "text/html": [
       "<div>\n",
       "<style scoped>\n",
       "    .dataframe tbody tr th:only-of-type {\n",
       "        vertical-align: middle;\n",
       "    }\n",
       "\n",
       "    .dataframe tbody tr th {\n",
       "        vertical-align: top;\n",
       "    }\n",
       "\n",
       "    .dataframe thead th {\n",
       "        text-align: right;\n",
       "    }\n",
       "</style>\n",
       "<table border=\"1\" class=\"dataframe\">\n",
       "  <thead>\n",
       "    <tr style=\"text-align: right;\">\n",
       "      <th></th>\n",
       "      <th>ABIDE</th>\n",
       "      <th>ADNI</th>\n",
       "      <th>CamCAN</th>\n",
       "      <th>IXI</th>\n",
       "    </tr>\n",
       "  </thead>\n",
       "  <tbody>\n",
       "    <tr>\n",
       "      <th>Model-0</th>\n",
       "      <td>3.281074</td>\n",
       "      <td>4.565706</td>\n",
       "      <td>5.954933</td>\n",
       "      <td>4.729141</td>\n",
       "    </tr>\n",
       "    <tr>\n",
       "      <th>Model-1</th>\n",
       "      <td>3.110216</td>\n",
       "      <td>4.662442</td>\n",
       "      <td>5.693502</td>\n",
       "      <td>4.808880</td>\n",
       "    </tr>\n",
       "    <tr>\n",
       "      <th>Model-2</th>\n",
       "      <td>3.190494</td>\n",
       "      <td>5.005398</td>\n",
       "      <td>6.162157</td>\n",
       "      <td>4.976330</td>\n",
       "    </tr>\n",
       "    <tr>\n",
       "      <th>Model-3</th>\n",
       "      <td>3.177616</td>\n",
       "      <td>4.428714</td>\n",
       "      <td>5.703717</td>\n",
       "      <td>4.861019</td>\n",
       "    </tr>\n",
       "    <tr>\n",
       "      <th>Model-4</th>\n",
       "      <td>2.932325</td>\n",
       "      <td>4.469685</td>\n",
       "      <td>5.982650</td>\n",
       "      <td>4.779459</td>\n",
       "    </tr>\n",
       "    <tr>\n",
       "      <th>Average</th>\n",
       "      <td>3.138345</td>\n",
       "      <td>4.626389</td>\n",
       "      <td>5.899392</td>\n",
       "      <td>4.830966</td>\n",
       "    </tr>\n",
       "    <tr>\n",
       "      <th>Ensemble</th>\n",
       "      <td>2.846267</td>\n",
       "      <td>4.331067</td>\n",
       "      <td>5.533973</td>\n",
       "      <td>4.338453</td>\n",
       "    </tr>\n",
       "  </tbody>\n",
       "</table>\n",
       "</div>"
      ],
      "text/plain": [
       "             ABIDE      ADNI    CamCAN       IXI\n",
       "Model-0   3.281074  4.565706  5.954933  4.729141\n",
       "Model-1   3.110216  4.662442  5.693502  4.808880\n",
       "Model-2   3.190494  5.005398  6.162157  4.976330\n",
       "Model-3   3.177616  4.428714  5.703717  4.861019\n",
       "Model-4   2.932325  4.469685  5.982650  4.779459\n",
       "Average   3.138345  4.626389  5.899392  4.830966\n",
       "Ensemble  2.846267  4.331067  5.533973  4.338453"
      ]
     },
     "execution_count": 17,
     "metadata": {},
     "output_type": "execute_result"
    }
   ],
   "source": [
    "database_summary_df = pd.DataFrame(columns=['ABIDE','ADNI','CamCAN','IXI'])\n",
    "# 每摺模型的數據\n",
    "for i in range(5):\n",
    "    new_row = []\n",
    "    for database in ['ABIDE','ADNI','CamCAN','IXI']:\n",
    "        mask = (overall_df['Set'] == 'test') & (overall_df['Database'] == database)\n",
    "        df = overall_df[mask]\n",
    "        mae = count_mae(df,f'Model-{i}')\n",
    "        new_row.append(mae)\n",
    "    # 填表\n",
    "    database_summary_df.loc[f'Model-{i}'] = new_row\n",
    "# 單一模型平均\n",
    "database_summary_df.loc['Average'] = database_summary_df.mean()\n",
    "# 組合模型數據\n",
    "ensemble_row = []\n",
    "for database in ['ABIDE','ADNI','CamCAN','IXI']:\n",
    "    mask = (overall_df['Set'] == 'test') & (overall_df['Database'] == database)\n",
    "    df = overall_df[mask]\n",
    "    mae = count_mae(df,'Ensemble')\n",
    "    ensemble_row.append(mae)\n",
    "database_summary_df.loc['Ensemble'] = ensemble_row\n",
    "database_summary_df"
   ]
  },
  {
   "cell_type": "markdown",
   "id": "a3e26ec9-9f78-484a-88ba-8e136dea248d",
   "metadata": {},
   "source": [
    "# 評估圖表製作"
   ]
  },
  {
   "cell_type": "code",
   "execution_count": 18,
   "id": "12f8060b-3c42-4211-bf44-7de47fda9dee",
   "metadata": {},
   "outputs": [],
   "source": [
    "import matplotlib.pyplot as plt"
   ]
  },
  {
   "cell_type": "code",
   "execution_count": 19,
   "id": "93480df6-e8db-40fe-86ac-17373ed75348",
   "metadata": {},
   "outputs": [],
   "source": [
    "mask = (overall_df['Set'] == 'test')\n",
    "test_subject_df = overall_df[mask]\n",
    "test_subject_df = test_subject_df[['Filename','Database','Actual_Age','Ensemble']]\n",
    "# 改名\n",
    "test_subject_df.rename(columns={'Ensemble':'Predicted Age','Actual_Age':'Actual Age'},inplace=True)\n",
    "# 新增 'Group' 欄位，每 5 歲為一組，並四捨五入到最接近的 5 的倍數\n",
    "test_subject_df['Group'] = (test_subject_df['Actual Age'].round() / 5).astype(int)\n",
    "# 新增 'MAE' (Mean Absolute Error)\n",
    "test_subject_df['MAE'] = np.abs(test_subject_df['Predicted Age'] - test_subject_df['Actual Age'])\n",
    "# 新增 'PAD' (Predicted Age Difference)\n",
    "test_subject_df['PAD'] = test_subject_df['Predicted Age'] - test_subject_df['Actual Age']"
   ]
  },
  {
   "cell_type": "code",
   "execution_count": 20,
   "id": "d6959429-3ed9-455f-b404-7cf1e2c2072b",
   "metadata": {},
   "outputs": [],
   "source": [
    "def plot_scatter(df,xlabel,ylabel,ylim=(0,100),ygap=10,baseline=True):\n",
    "    #plt.figure(figsize=(8, 6))\n",
    "    plt.xlabel(xlabel)\n",
    "    plt.ylabel(ylabel)\n",
    "    plt.title('')\n",
    "    # 為不同資料庫繪製散佈圖\n",
    "    for db_name, color in zip(['ABIDE', 'ADNI', 'CamCAN', 'IXI'],['#1f77b4', '#ff7f0e', '#2ca02c', '#d62728']):\n",
    "        subset = df[df['Database'] == db_name]\n",
    "        plt.scatter(subset[xlabel], subset[ylabel], label=db_name, s=10, color=color)\n",
    "    # 計算回歸線\n",
    "    slope, intercept = np.polyfit(df[xlabel], df[ylabel], 1)\n",
    "    regression_line = slope * df[xlabel] + intercept\n",
    "    plt.plot(df[xlabel], regression_line, color='red', label='Regression Line')\n",
    "    print(f'回歸線: y = {slope:.4f}x + {intercept:.4f}')\n",
    "    # 繪製 y = x 的基準線\n",
    "    if baseline:\n",
    "        plt.plot([0, 100], [0, 100], color='gray', linestyle='-', label='y = x (Ideal)', linewidth=0.7)\n",
    "    # 設定每 10 單位顯示一條刻度線\n",
    "    yr,yl=ylim\n",
    "    plt.xticks(np.arange(0, 110, 10))\n",
    "    plt.yticks(np.arange(yr, yl+ygap, ygap))\n",
    "    # 設定顯示範圍與網格\n",
    "    plt.xlim(0,100)\n",
    "    plt.ylim(yr,yl)\n",
    "    plt.grid(True)\n",
    "    #plt.legend()\n",
    "    # 顯示圖表\n",
    "    plt.show()"
   ]
  },
  {
   "cell_type": "code",
   "execution_count": 21,
   "id": "5170d9fc-8dd1-40b1-8d9a-a79f5ff7a20c",
   "metadata": {},
   "outputs": [
    {
     "name": "stdout",
     "output_type": "stream",
     "text": [
      "回歸線: y = 0.9412x + 2.9470\n"
     ]
    },
    {
     "data": {
      "image/png": "[encoded data removed]",
      "text/plain": [
       "<Figure size 640x480 with 1 Axes>"
      ]
     },
     "metadata": {},
     "output_type": "display_data"
    }
   ],
   "source": [
    "plot_scatter(test_subject_df,'Actual Age','Predicted Age')"
   ]
  },
  {
   "cell_type": "code",
   "execution_count": 22,
   "id": "1745d9ab-907f-4434-b81a-b3cd61c21dc6",
   "metadata": {},
   "outputs": [
    {
     "name": "stdout",
     "output_type": "stream",
     "text": [
      "回歸線: y = 0.0196x + 3.3470\n"
     ]
    },
    {
     "data": {
      "image/png": "[encoded data removed]",
      "text/plain": [
       "<Figure size 640x480 with 1 Axes>"
      ]
     },
     "metadata": {},
     "output_type": "display_data"
    },
    {
     "name": "stdout",
     "output_type": "stream",
     "text": [
      "回歸線: y = -0.0588x + 2.9470\n"
     ]
    },
    {
     "data": {
      "image/png": "[encoded data removed]",
      "text/plain": [
       "<Figure size 640x480 with 1 Axes>"
      ]
     },
     "metadata": {},
     "output_type": "display_data"
    }
   ],
   "source": [
    "plot_scatter(test_subject_df, 'Actual Age', 'MAE', ylim=(0,25), ygap=5, baseline=False)\n",
    "plot_scatter(test_subject_df, 'Actual Age', 'PAD', ylim=(-25,25), ygap=10, baseline=False)"
   ]
  },
  {
   "cell_type": "code",
   "execution_count": 23,
   "id": "da6db163-614d-4399-97a9-70c611e8086d",
   "metadata": {},
   "outputs": [],
   "source": [
    "def plot_bar(df,ylabel,ylim,ygap=2):\n",
    "    # 計算各組別的平均 MAE\n",
    "    group_mae_series = df.groupby('Group')[ylabel].mean()\n",
    "    group_mae_series = group_mae_series.reindex(range(20), fill_value=0)# 確保索引為 0-19，沒有的補 0\n",
    "    group_mae_list = group_mae_series.tolist()# 轉換為 list\n",
    "    # 繪圖\n",
    "    plt.figure(figsize=(10, 5))\n",
    "    age_group = [f'{i*5}-{i*5+4}' for i in range(20)]\n",
    "    plt.bar(age_group, group_mae_list,  width=0.7)\n",
    "    plt.xlabel('Age Bracket')\n",
    "    plt.xticks(rotation=45, ha='right', fontstyle='italic')\n",
    "    plt.ylabel(ylabel)\n",
    "    yr,yl=ylim\n",
    "    plt.ylim(yr, yl)\n",
    "    plt.yticks(np.arange(yr,yl+ygap,ygap))\n",
    "    plt.title('')\n",
    "    plt.grid(True, axis='y', linestyle='-', alpha=0.7)\n",
    "    plt.show()"
   ]
  },
  {
   "cell_type": "code",
   "execution_count": 24,
   "id": "f612e35e-0707-4fe9-ba79-dbd53be71f56",
   "metadata": {},
   "outputs": [
    {
     "data": {
      "image/png": "[encoded data removed]",
      "text/plain": [
       "<Figure size 1000x500 with 1 Axes>"
      ]
     },
     "metadata": {},
     "output_type": "display_data"
    },
    {
     "data": {
      "image/png": "[encoded data removed]",
      "text/plain": [
       "<Figure size 1000x500 with 1 Axes>"
      ]
     },
     "metadata": {},
     "output_type": "display_data"
    }
   ],
   "source": [
    "plot_bar(test_subject_df,'MAE',ylim=(0,10),ygap=1)\n",
    "plot_bar(test_subject_df,'PAD',ylim=(-10,10),ygap=2)"
   ]
  }
 ],
 "metadata": {
  "kernelspec": {
   "display_name": "Python 3 (ipykernel)",
   "language": "python",
   "name": "python3"
  },
  "language_info": {
   "codemirror_mode": {
    "name": "ipython",
    "version": 3
   },
   "file_extension": ".py",
   "mimetype": "text/x-python",
   "name": "python",
   "nbconvert_exporter": "python",
   "pygments_lexer": "ipython3",
   "version": "3.9.19"
  }
 },
 "nbformat": 4,
 "nbformat_minor": 5
}
